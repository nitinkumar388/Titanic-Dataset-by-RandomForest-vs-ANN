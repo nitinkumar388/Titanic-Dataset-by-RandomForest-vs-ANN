{
  "nbformat": 4,
  "nbformat_minor": 0,
  "metadata": {
    "colab": {
      "name": "Titanic Dataset by RandomForest vs ANN.ipynb",
      "provenance": [],
      "collapsed_sections": []
    },
    "kernelspec": {
      "name": "python3",
      "display_name": "Python 3"
    },
    "language_info": {
      "name": "python"
    }
  },
  "cells": [
    {
      "cell_type": "code",
      "metadata": {
        "id": "wzi4HUMm6V_E"
      },
      "source": [
        "import numpy as np\n",
        "import pandas as pd\n",
        "import matplotlib.pyplot as plt\n"
      ],
      "execution_count": 41,
      "outputs": []
    },
    {
      "cell_type": "code",
      "metadata": {
        "id": "jHlB44Q26t9r"
      },
      "source": [
        "df = pd.read_csv(\"/content/train.csv\")"
      ],
      "execution_count": 42,
      "outputs": []
    },
    {
      "cell_type": "code",
      "metadata": {
        "colab": {
          "base_uri": "https://localhost:8080/",
          "height": 203
        },
        "id": "kgExrcLD6ztP",
        "outputId": "87f022e5-bd86-434b-fec0-b888d13aea16"
      },
      "source": [
        "df.head()"
      ],
      "execution_count": 43,
      "outputs": [
        {
          "output_type": "execute_result",
          "data": {
            "text/html": [
              "<div>\n",
              "<style scoped>\n",
              "    .dataframe tbody tr th:only-of-type {\n",
              "        vertical-align: middle;\n",
              "    }\n",
              "\n",
              "    .dataframe tbody tr th {\n",
              "        vertical-align: top;\n",
              "    }\n",
              "\n",
              "    .dataframe thead th {\n",
              "        text-align: right;\n",
              "    }\n",
              "</style>\n",
              "<table border=\"1\" class=\"dataframe\">\n",
              "  <thead>\n",
              "    <tr style=\"text-align: right;\">\n",
              "      <th></th>\n",
              "      <th>PassengerId</th>\n",
              "      <th>Survived</th>\n",
              "      <th>Pclass</th>\n",
              "      <th>Name</th>\n",
              "      <th>Sex</th>\n",
              "      <th>Age</th>\n",
              "      <th>SibSp</th>\n",
              "      <th>Parch</th>\n",
              "      <th>Ticket</th>\n",
              "      <th>Fare</th>\n",
              "      <th>Cabin</th>\n",
              "      <th>Embarked</th>\n",
              "    </tr>\n",
              "  </thead>\n",
              "  <tbody>\n",
              "    <tr>\n",
              "      <th>0</th>\n",
              "      <td>1</td>\n",
              "      <td>0</td>\n",
              "      <td>3</td>\n",
              "      <td>Braund, Mr. Owen Harris</td>\n",
              "      <td>male</td>\n",
              "      <td>22.0</td>\n",
              "      <td>1</td>\n",
              "      <td>0</td>\n",
              "      <td>A/5 21171</td>\n",
              "      <td>7.2500</td>\n",
              "      <td>NaN</td>\n",
              "      <td>S</td>\n",
              "    </tr>\n",
              "    <tr>\n",
              "      <th>1</th>\n",
              "      <td>2</td>\n",
              "      <td>1</td>\n",
              "      <td>1</td>\n",
              "      <td>Cumings, Mrs. John Bradley (Florence Briggs Th...</td>\n",
              "      <td>female</td>\n",
              "      <td>38.0</td>\n",
              "      <td>1</td>\n",
              "      <td>0</td>\n",
              "      <td>PC 17599</td>\n",
              "      <td>71.2833</td>\n",
              "      <td>C85</td>\n",
              "      <td>C</td>\n",
              "    </tr>\n",
              "    <tr>\n",
              "      <th>2</th>\n",
              "      <td>3</td>\n",
              "      <td>1</td>\n",
              "      <td>3</td>\n",
              "      <td>Heikkinen, Miss. Laina</td>\n",
              "      <td>female</td>\n",
              "      <td>26.0</td>\n",
              "      <td>0</td>\n",
              "      <td>0</td>\n",
              "      <td>STON/O2. 3101282</td>\n",
              "      <td>7.9250</td>\n",
              "      <td>NaN</td>\n",
              "      <td>S</td>\n",
              "    </tr>\n",
              "    <tr>\n",
              "      <th>3</th>\n",
              "      <td>4</td>\n",
              "      <td>1</td>\n",
              "      <td>1</td>\n",
              "      <td>Futrelle, Mrs. Jacques Heath (Lily May Peel)</td>\n",
              "      <td>female</td>\n",
              "      <td>35.0</td>\n",
              "      <td>1</td>\n",
              "      <td>0</td>\n",
              "      <td>113803</td>\n",
              "      <td>53.1000</td>\n",
              "      <td>C123</td>\n",
              "      <td>S</td>\n",
              "    </tr>\n",
              "    <tr>\n",
              "      <th>4</th>\n",
              "      <td>5</td>\n",
              "      <td>0</td>\n",
              "      <td>3</td>\n",
              "      <td>Allen, Mr. William Henry</td>\n",
              "      <td>male</td>\n",
              "      <td>35.0</td>\n",
              "      <td>0</td>\n",
              "      <td>0</td>\n",
              "      <td>373450</td>\n",
              "      <td>8.0500</td>\n",
              "      <td>NaN</td>\n",
              "      <td>S</td>\n",
              "    </tr>\n",
              "  </tbody>\n",
              "</table>\n",
              "</div>"
            ],
            "text/plain": [
              "   PassengerId  Survived  Pclass  ...     Fare Cabin  Embarked\n",
              "0            1         0       3  ...   7.2500   NaN         S\n",
              "1            2         1       1  ...  71.2833   C85         C\n",
              "2            3         1       3  ...   7.9250   NaN         S\n",
              "3            4         1       1  ...  53.1000  C123         S\n",
              "4            5         0       3  ...   8.0500   NaN         S\n",
              "\n",
              "[5 rows x 12 columns]"
            ]
          },
          "metadata": {
            "tags": []
          },
          "execution_count": 43
        }
      ]
    },
    {
      "cell_type": "code",
      "metadata": {
        "colab": {
          "base_uri": "https://localhost:8080/"
        },
        "id": "SPFcBmp-66me",
        "outputId": "1c7ec780-f418-4b0a-9a91-c54b7f98fbce"
      },
      "source": [
        "df.size"
      ],
      "execution_count": 44,
      "outputs": [
        {
          "output_type": "execute_result",
          "data": {
            "text/plain": [
              "10692"
            ]
          },
          "metadata": {
            "tags": []
          },
          "execution_count": 44
        }
      ]
    },
    {
      "cell_type": "code",
      "metadata": {
        "colab": {
          "base_uri": "https://localhost:8080/"
        },
        "id": "_bPLTS1l7GlK",
        "outputId": "326db65d-4d3e-47e9-edaa-50764f21f401"
      },
      "source": [
        "df.shape"
      ],
      "execution_count": 45,
      "outputs": [
        {
          "output_type": "execute_result",
          "data": {
            "text/plain": [
              "(891, 12)"
            ]
          },
          "metadata": {
            "tags": []
          },
          "execution_count": 45
        }
      ]
    },
    {
      "cell_type": "code",
      "metadata": {
        "colab": {
          "base_uri": "https://localhost:8080/"
        },
        "id": "i0j1jKpW7H_V",
        "outputId": "98bbb2a1-935c-4ad4-bcd3-bb74b57b7e07"
      },
      "source": [
        "df.columns"
      ],
      "execution_count": 46,
      "outputs": [
        {
          "output_type": "execute_result",
          "data": {
            "text/plain": [
              "Index(['PassengerId', 'Survived', 'Pclass', 'Name', 'Sex', 'Age', 'SibSp',\n",
              "       'Parch', 'Ticket', 'Fare', 'Cabin', 'Embarked'],\n",
              "      dtype='object')"
            ]
          },
          "metadata": {
            "tags": []
          },
          "execution_count": 46
        }
      ]
    },
    {
      "cell_type": "code",
      "metadata": {
        "id": "p65lNhdv76Rp"
      },
      "source": [
        "l1 = ['PassengerId','Cabin','Ticket']"
      ],
      "execution_count": 47,
      "outputs": []
    },
    {
      "cell_type": "code",
      "metadata": {
        "id": "1yMRGsfR8FA3"
      },
      "source": [
        "df.drop(l1, axis=1, inplace=True)"
      ],
      "execution_count": 48,
      "outputs": []
    },
    {
      "cell_type": "code",
      "metadata": {
        "colab": {
          "base_uri": "https://localhost:8080/",
          "height": 203
        },
        "id": "ilXLmzNc8K1d",
        "outputId": "72b5ac74-b49d-4419-f953-de462f0cb437"
      },
      "source": [
        "df.head()"
      ],
      "execution_count": 49,
      "outputs": [
        {
          "output_type": "execute_result",
          "data": {
            "text/html": [
              "<div>\n",
              "<style scoped>\n",
              "    .dataframe tbody tr th:only-of-type {\n",
              "        vertical-align: middle;\n",
              "    }\n",
              "\n",
              "    .dataframe tbody tr th {\n",
              "        vertical-align: top;\n",
              "    }\n",
              "\n",
              "    .dataframe thead th {\n",
              "        text-align: right;\n",
              "    }\n",
              "</style>\n",
              "<table border=\"1\" class=\"dataframe\">\n",
              "  <thead>\n",
              "    <tr style=\"text-align: right;\">\n",
              "      <th></th>\n",
              "      <th>Survived</th>\n",
              "      <th>Pclass</th>\n",
              "      <th>Name</th>\n",
              "      <th>Sex</th>\n",
              "      <th>Age</th>\n",
              "      <th>SibSp</th>\n",
              "      <th>Parch</th>\n",
              "      <th>Fare</th>\n",
              "      <th>Embarked</th>\n",
              "    </tr>\n",
              "  </thead>\n",
              "  <tbody>\n",
              "    <tr>\n",
              "      <th>0</th>\n",
              "      <td>0</td>\n",
              "      <td>3</td>\n",
              "      <td>Braund, Mr. Owen Harris</td>\n",
              "      <td>male</td>\n",
              "      <td>22.0</td>\n",
              "      <td>1</td>\n",
              "      <td>0</td>\n",
              "      <td>7.2500</td>\n",
              "      <td>S</td>\n",
              "    </tr>\n",
              "    <tr>\n",
              "      <th>1</th>\n",
              "      <td>1</td>\n",
              "      <td>1</td>\n",
              "      <td>Cumings, Mrs. John Bradley (Florence Briggs Th...</td>\n",
              "      <td>female</td>\n",
              "      <td>38.0</td>\n",
              "      <td>1</td>\n",
              "      <td>0</td>\n",
              "      <td>71.2833</td>\n",
              "      <td>C</td>\n",
              "    </tr>\n",
              "    <tr>\n",
              "      <th>2</th>\n",
              "      <td>1</td>\n",
              "      <td>3</td>\n",
              "      <td>Heikkinen, Miss. Laina</td>\n",
              "      <td>female</td>\n",
              "      <td>26.0</td>\n",
              "      <td>0</td>\n",
              "      <td>0</td>\n",
              "      <td>7.9250</td>\n",
              "      <td>S</td>\n",
              "    </tr>\n",
              "    <tr>\n",
              "      <th>3</th>\n",
              "      <td>1</td>\n",
              "      <td>1</td>\n",
              "      <td>Futrelle, Mrs. Jacques Heath (Lily May Peel)</td>\n",
              "      <td>female</td>\n",
              "      <td>35.0</td>\n",
              "      <td>1</td>\n",
              "      <td>0</td>\n",
              "      <td>53.1000</td>\n",
              "      <td>S</td>\n",
              "    </tr>\n",
              "    <tr>\n",
              "      <th>4</th>\n",
              "      <td>0</td>\n",
              "      <td>3</td>\n",
              "      <td>Allen, Mr. William Henry</td>\n",
              "      <td>male</td>\n",
              "      <td>35.0</td>\n",
              "      <td>0</td>\n",
              "      <td>0</td>\n",
              "      <td>8.0500</td>\n",
              "      <td>S</td>\n",
              "    </tr>\n",
              "  </tbody>\n",
              "</table>\n",
              "</div>"
            ],
            "text/plain": [
              "   Survived  Pclass  ...     Fare Embarked\n",
              "0         0       3  ...   7.2500        S\n",
              "1         1       1  ...  71.2833        C\n",
              "2         1       3  ...   7.9250        S\n",
              "3         1       1  ...  53.1000        S\n",
              "4         0       3  ...   8.0500        S\n",
              "\n",
              "[5 rows x 9 columns]"
            ]
          },
          "metadata": {
            "tags": []
          },
          "execution_count": 49
        }
      ]
    },
    {
      "cell_type": "code",
      "metadata": {
        "id": "Vj2k9ylb8QCK"
      },
      "source": [
        "temp = df[\"Name\"].unique()"
      ],
      "execution_count": 50,
      "outputs": []
    },
    {
      "cell_type": "code",
      "metadata": {
        "colab": {
          "base_uri": "https://localhost:8080/"
        },
        "id": "J8m_ycSL80Ph",
        "outputId": "b1e5d30a-2264-420e-e0a0-d6d2eae6008f"
      },
      "source": [
        "temp[:10]"
      ],
      "execution_count": 51,
      "outputs": [
        {
          "output_type": "execute_result",
          "data": {
            "text/plain": [
              "array(['Braund, Mr. Owen Harris',\n",
              "       'Cumings, Mrs. John Bradley (Florence Briggs Thayer)',\n",
              "       'Heikkinen, Miss. Laina',\n",
              "       'Futrelle, Mrs. Jacques Heath (Lily May Peel)',\n",
              "       'Allen, Mr. William Henry', 'Moran, Mr. James',\n",
              "       'McCarthy, Mr. Timothy J', 'Palsson, Master. Gosta Leonard',\n",
              "       'Johnson, Mrs. Oscar W (Elisabeth Vilhelmina Berg)',\n",
              "       'Nasser, Mrs. Nicholas (Adele Achem)'], dtype=object)"
            ]
          },
          "metadata": {
            "tags": []
          },
          "execution_count": 51
        }
      ]
    },
    {
      "cell_type": "code",
      "metadata": {
        "id": "eHIbcNsD87r0"
      },
      "source": [
        "st = []\n",
        "\n",
        "for i in temp:\n",
        "  a = i.split(' ')\n",
        "  for k in a:\n",
        "    if '.' in k:\n",
        "      st.append(k)\n",
        "      break\n",
        "\n"
      ],
      "execution_count": 52,
      "outputs": []
    },
    {
      "cell_type": "code",
      "metadata": {
        "colab": {
          "base_uri": "https://localhost:8080/"
        },
        "id": "3gSVUtpm959c",
        "outputId": "d463fec4-a36c-459d-cc02-5b018a9d01b8"
      },
      "source": [
        "st[:10]"
      ],
      "execution_count": 53,
      "outputs": [
        {
          "output_type": "execute_result",
          "data": {
            "text/plain": [
              "['Mr.',\n",
              " 'Mrs.',\n",
              " 'Miss.',\n",
              " 'Mrs.',\n",
              " 'Mr.',\n",
              " 'Mr.',\n",
              " 'Mr.',\n",
              " 'Master.',\n",
              " 'Mrs.',\n",
              " 'Mrs.']"
            ]
          },
          "metadata": {
            "tags": []
          },
          "execution_count": 53
        }
      ]
    },
    {
      "cell_type": "code",
      "metadata": {
        "colab": {
          "base_uri": "https://localhost:8080/"
        },
        "id": "AxZdaujA-Oq1",
        "outputId": "3ce5c18e-62da-4753-9ec4-34209e549d37"
      },
      "source": [
        "type(st)"
      ],
      "execution_count": 54,
      "outputs": [
        {
          "output_type": "execute_result",
          "data": {
            "text/plain": [
              "list"
            ]
          },
          "metadata": {
            "tags": []
          },
          "execution_count": 54
        }
      ]
    },
    {
      "cell_type": "code",
      "metadata": {
        "id": "YO7k1PEN-XcX"
      },
      "source": [
        "st = np.array(st)\n",
        "df[\"New_Name\"] = st"
      ],
      "execution_count": 55,
      "outputs": []
    },
    {
      "cell_type": "code",
      "metadata": {
        "colab": {
          "base_uri": "https://localhost:8080/"
        },
        "id": "tds8DlTQ-jIc",
        "outputId": "6884e155-6edf-47f3-a2aa-cde853015b7a"
      },
      "source": [
        "type(st)"
      ],
      "execution_count": 56,
      "outputs": [
        {
          "output_type": "execute_result",
          "data": {
            "text/plain": [
              "numpy.ndarray"
            ]
          },
          "metadata": {
            "tags": []
          },
          "execution_count": 56
        }
      ]
    },
    {
      "cell_type": "code",
      "metadata": {
        "colab": {
          "base_uri": "https://localhost:8080/",
          "height": 203
        },
        "id": "0LSxdA6j-knM",
        "outputId": "652a4a45-512f-4c19-888a-04353ad0abb9"
      },
      "source": [
        "df.head()"
      ],
      "execution_count": 57,
      "outputs": [
        {
          "output_type": "execute_result",
          "data": {
            "text/html": [
              "<div>\n",
              "<style scoped>\n",
              "    .dataframe tbody tr th:only-of-type {\n",
              "        vertical-align: middle;\n",
              "    }\n",
              "\n",
              "    .dataframe tbody tr th {\n",
              "        vertical-align: top;\n",
              "    }\n",
              "\n",
              "    .dataframe thead th {\n",
              "        text-align: right;\n",
              "    }\n",
              "</style>\n",
              "<table border=\"1\" class=\"dataframe\">\n",
              "  <thead>\n",
              "    <tr style=\"text-align: right;\">\n",
              "      <th></th>\n",
              "      <th>Survived</th>\n",
              "      <th>Pclass</th>\n",
              "      <th>Name</th>\n",
              "      <th>Sex</th>\n",
              "      <th>Age</th>\n",
              "      <th>SibSp</th>\n",
              "      <th>Parch</th>\n",
              "      <th>Fare</th>\n",
              "      <th>Embarked</th>\n",
              "      <th>New_Name</th>\n",
              "    </tr>\n",
              "  </thead>\n",
              "  <tbody>\n",
              "    <tr>\n",
              "      <th>0</th>\n",
              "      <td>0</td>\n",
              "      <td>3</td>\n",
              "      <td>Braund, Mr. Owen Harris</td>\n",
              "      <td>male</td>\n",
              "      <td>22.0</td>\n",
              "      <td>1</td>\n",
              "      <td>0</td>\n",
              "      <td>7.2500</td>\n",
              "      <td>S</td>\n",
              "      <td>Mr.</td>\n",
              "    </tr>\n",
              "    <tr>\n",
              "      <th>1</th>\n",
              "      <td>1</td>\n",
              "      <td>1</td>\n",
              "      <td>Cumings, Mrs. John Bradley (Florence Briggs Th...</td>\n",
              "      <td>female</td>\n",
              "      <td>38.0</td>\n",
              "      <td>1</td>\n",
              "      <td>0</td>\n",
              "      <td>71.2833</td>\n",
              "      <td>C</td>\n",
              "      <td>Mrs.</td>\n",
              "    </tr>\n",
              "    <tr>\n",
              "      <th>2</th>\n",
              "      <td>1</td>\n",
              "      <td>3</td>\n",
              "      <td>Heikkinen, Miss. Laina</td>\n",
              "      <td>female</td>\n",
              "      <td>26.0</td>\n",
              "      <td>0</td>\n",
              "      <td>0</td>\n",
              "      <td>7.9250</td>\n",
              "      <td>S</td>\n",
              "      <td>Miss.</td>\n",
              "    </tr>\n",
              "    <tr>\n",
              "      <th>3</th>\n",
              "      <td>1</td>\n",
              "      <td>1</td>\n",
              "      <td>Futrelle, Mrs. Jacques Heath (Lily May Peel)</td>\n",
              "      <td>female</td>\n",
              "      <td>35.0</td>\n",
              "      <td>1</td>\n",
              "      <td>0</td>\n",
              "      <td>53.1000</td>\n",
              "      <td>S</td>\n",
              "      <td>Mrs.</td>\n",
              "    </tr>\n",
              "    <tr>\n",
              "      <th>4</th>\n",
              "      <td>0</td>\n",
              "      <td>3</td>\n",
              "      <td>Allen, Mr. William Henry</td>\n",
              "      <td>male</td>\n",
              "      <td>35.0</td>\n",
              "      <td>0</td>\n",
              "      <td>0</td>\n",
              "      <td>8.0500</td>\n",
              "      <td>S</td>\n",
              "      <td>Mr.</td>\n",
              "    </tr>\n",
              "  </tbody>\n",
              "</table>\n",
              "</div>"
            ],
            "text/plain": [
              "   Survived  Pclass  ... Embarked New_Name\n",
              "0         0       3  ...        S      Mr.\n",
              "1         1       1  ...        C     Mrs.\n",
              "2         1       3  ...        S    Miss.\n",
              "3         1       1  ...        S     Mrs.\n",
              "4         0       3  ...        S      Mr.\n",
              "\n",
              "[5 rows x 10 columns]"
            ]
          },
          "metadata": {
            "tags": []
          },
          "execution_count": 57
        }
      ]
    },
    {
      "cell_type": "code",
      "metadata": {
        "colab": {
          "base_uri": "https://localhost:8080/"
        },
        "id": "J_i5wVG1-m2j",
        "outputId": "95644d55-ef8b-40a0-def7-91c1b9eb87cc"
      },
      "source": [
        "df[\"New_Name\"].unique()"
      ],
      "execution_count": 58,
      "outputs": [
        {
          "output_type": "execute_result",
          "data": {
            "text/plain": [
              "array(['Mr.', 'Mrs.', 'Miss.', 'Master.', 'Don.', 'Rev.', 'Dr.', 'Mme.',\n",
              "       'Ms.', 'Major.', 'Lady.', 'Sir.', 'Mlle.', 'Col.', 'Capt.',\n",
              "       'Countess.', 'Jonkheer.'], dtype=object)"
            ]
          },
          "metadata": {
            "tags": []
          },
          "execution_count": 58
        }
      ]
    },
    {
      "cell_type": "code",
      "metadata": {
        "id": "yloOfU8e-6_P"
      },
      "source": [
        "l2 = ['Name']\n",
        "df.drop(l2, axis=1, inplace=True)"
      ],
      "execution_count": 59,
      "outputs": []
    },
    {
      "cell_type": "code",
      "metadata": {
        "colab": {
          "base_uri": "https://localhost:8080/",
          "height": 203
        },
        "id": "yd7zAras_KN1",
        "outputId": "5c4e75ae-c0fb-489b-c4be-530618e4bad3"
      },
      "source": [
        "df.head()"
      ],
      "execution_count": 60,
      "outputs": [
        {
          "output_type": "execute_result",
          "data": {
            "text/html": [
              "<div>\n",
              "<style scoped>\n",
              "    .dataframe tbody tr th:only-of-type {\n",
              "        vertical-align: middle;\n",
              "    }\n",
              "\n",
              "    .dataframe tbody tr th {\n",
              "        vertical-align: top;\n",
              "    }\n",
              "\n",
              "    .dataframe thead th {\n",
              "        text-align: right;\n",
              "    }\n",
              "</style>\n",
              "<table border=\"1\" class=\"dataframe\">\n",
              "  <thead>\n",
              "    <tr style=\"text-align: right;\">\n",
              "      <th></th>\n",
              "      <th>Survived</th>\n",
              "      <th>Pclass</th>\n",
              "      <th>Sex</th>\n",
              "      <th>Age</th>\n",
              "      <th>SibSp</th>\n",
              "      <th>Parch</th>\n",
              "      <th>Fare</th>\n",
              "      <th>Embarked</th>\n",
              "      <th>New_Name</th>\n",
              "    </tr>\n",
              "  </thead>\n",
              "  <tbody>\n",
              "    <tr>\n",
              "      <th>0</th>\n",
              "      <td>0</td>\n",
              "      <td>3</td>\n",
              "      <td>male</td>\n",
              "      <td>22.0</td>\n",
              "      <td>1</td>\n",
              "      <td>0</td>\n",
              "      <td>7.2500</td>\n",
              "      <td>S</td>\n",
              "      <td>Mr.</td>\n",
              "    </tr>\n",
              "    <tr>\n",
              "      <th>1</th>\n",
              "      <td>1</td>\n",
              "      <td>1</td>\n",
              "      <td>female</td>\n",
              "      <td>38.0</td>\n",
              "      <td>1</td>\n",
              "      <td>0</td>\n",
              "      <td>71.2833</td>\n",
              "      <td>C</td>\n",
              "      <td>Mrs.</td>\n",
              "    </tr>\n",
              "    <tr>\n",
              "      <th>2</th>\n",
              "      <td>1</td>\n",
              "      <td>3</td>\n",
              "      <td>female</td>\n",
              "      <td>26.0</td>\n",
              "      <td>0</td>\n",
              "      <td>0</td>\n",
              "      <td>7.9250</td>\n",
              "      <td>S</td>\n",
              "      <td>Miss.</td>\n",
              "    </tr>\n",
              "    <tr>\n",
              "      <th>3</th>\n",
              "      <td>1</td>\n",
              "      <td>1</td>\n",
              "      <td>female</td>\n",
              "      <td>35.0</td>\n",
              "      <td>1</td>\n",
              "      <td>0</td>\n",
              "      <td>53.1000</td>\n",
              "      <td>S</td>\n",
              "      <td>Mrs.</td>\n",
              "    </tr>\n",
              "    <tr>\n",
              "      <th>4</th>\n",
              "      <td>0</td>\n",
              "      <td>3</td>\n",
              "      <td>male</td>\n",
              "      <td>35.0</td>\n",
              "      <td>0</td>\n",
              "      <td>0</td>\n",
              "      <td>8.0500</td>\n",
              "      <td>S</td>\n",
              "      <td>Mr.</td>\n",
              "    </tr>\n",
              "  </tbody>\n",
              "</table>\n",
              "</div>"
            ],
            "text/plain": [
              "   Survived  Pclass     Sex   Age  SibSp  Parch     Fare Embarked New_Name\n",
              "0         0       3    male  22.0      1      0   7.2500        S      Mr.\n",
              "1         1       1  female  38.0      1      0  71.2833        C     Mrs.\n",
              "2         1       3  female  26.0      0      0   7.9250        S    Miss.\n",
              "3         1       1  female  35.0      1      0  53.1000        S     Mrs.\n",
              "4         0       3    male  35.0      0      0   8.0500        S      Mr."
            ]
          },
          "metadata": {
            "tags": []
          },
          "execution_count": 60
        }
      ]
    },
    {
      "cell_type": "code",
      "metadata": {
        "colab": {
          "base_uri": "https://localhost:8080/"
        },
        "id": "_GVXxnzG_Ljg",
        "outputId": "879fd91d-7019-4de2-adb9-aa8d225bc66d"
      },
      "source": [
        "df.isnull().sum()"
      ],
      "execution_count": 61,
      "outputs": [
        {
          "output_type": "execute_result",
          "data": {
            "text/plain": [
              "Survived      0\n",
              "Pclass        0\n",
              "Sex           0\n",
              "Age         177\n",
              "SibSp         0\n",
              "Parch         0\n",
              "Fare          0\n",
              "Embarked      2\n",
              "New_Name      0\n",
              "dtype: int64"
            ]
          },
          "metadata": {
            "tags": []
          },
          "execution_count": 61
        }
      ]
    },
    {
      "cell_type": "code",
      "metadata": {
        "id": "d3HA4Gm9_RLU"
      },
      "source": [
        "emb = list(df[\"Embarked\"].mode())[0]\n",
        "df[\"Age\"].fillna(df[\"Age\"].mean(), inplace=True)\n",
        "df[\"Embarked\"].fillna(emb, inplace=True)\n"
      ],
      "execution_count": 62,
      "outputs": []
    },
    {
      "cell_type": "code",
      "metadata": {
        "colab": {
          "base_uri": "https://localhost:8080/"
        },
        "id": "JddIx1zl_y1b",
        "outputId": "acdf5d1e-922d-43fd-e217-9cf34bc0ebb5"
      },
      "source": [
        "df.isnull().sum()"
      ],
      "execution_count": 63,
      "outputs": [
        {
          "output_type": "execute_result",
          "data": {
            "text/plain": [
              "Survived    0\n",
              "Pclass      0\n",
              "Sex         0\n",
              "Age         0\n",
              "SibSp       0\n",
              "Parch       0\n",
              "Fare        0\n",
              "Embarked    0\n",
              "New_Name    0\n",
              "dtype: int64"
            ]
          },
          "metadata": {
            "tags": []
          },
          "execution_count": 63
        }
      ]
    },
    {
      "cell_type": "code",
      "metadata": {
        "id": "HnES3qlVJq9-"
      },
      "source": [
        "from sklearn.preprocessing import LabelEncoder\n",
        "le_s = LabelEncoder()\n",
        "le_n = LabelEncoder()\n",
        "le_e = LabelEncoder()"
      ],
      "execution_count": 64,
      "outputs": []
    },
    {
      "cell_type": "code",
      "metadata": {
        "id": "yyNY_S2EKIGV"
      },
      "source": [
        "df[\"Sex\"] = le_s.fit_transform(df[\"Sex\"])\n",
        "df[\"New_Name\"] = le_n.fit_transform(df[\"New_Name\"])\n",
        "df[\"Embarked\"] = le_e.fit_transform(df[\"Embarked\"])"
      ],
      "execution_count": 65,
      "outputs": []
    },
    {
      "cell_type": "code",
      "metadata": {
        "colab": {
          "base_uri": "https://localhost:8080/",
          "height": 203
        },
        "id": "J2Z4vhOEKdjI",
        "outputId": "b197460a-606a-4e4f-f191-6939a9c3223c"
      },
      "source": [
        "df.head()"
      ],
      "execution_count": 66,
      "outputs": [
        {
          "output_type": "execute_result",
          "data": {
            "text/html": [
              "<div>\n",
              "<style scoped>\n",
              "    .dataframe tbody tr th:only-of-type {\n",
              "        vertical-align: middle;\n",
              "    }\n",
              "\n",
              "    .dataframe tbody tr th {\n",
              "        vertical-align: top;\n",
              "    }\n",
              "\n",
              "    .dataframe thead th {\n",
              "        text-align: right;\n",
              "    }\n",
              "</style>\n",
              "<table border=\"1\" class=\"dataframe\">\n",
              "  <thead>\n",
              "    <tr style=\"text-align: right;\">\n",
              "      <th></th>\n",
              "      <th>Survived</th>\n",
              "      <th>Pclass</th>\n",
              "      <th>Sex</th>\n",
              "      <th>Age</th>\n",
              "      <th>SibSp</th>\n",
              "      <th>Parch</th>\n",
              "      <th>Fare</th>\n",
              "      <th>Embarked</th>\n",
              "      <th>New_Name</th>\n",
              "    </tr>\n",
              "  </thead>\n",
              "  <tbody>\n",
              "    <tr>\n",
              "      <th>0</th>\n",
              "      <td>0</td>\n",
              "      <td>3</td>\n",
              "      <td>1</td>\n",
              "      <td>22.0</td>\n",
              "      <td>1</td>\n",
              "      <td>0</td>\n",
              "      <td>7.2500</td>\n",
              "      <td>2</td>\n",
              "      <td>12</td>\n",
              "    </tr>\n",
              "    <tr>\n",
              "      <th>1</th>\n",
              "      <td>1</td>\n",
              "      <td>1</td>\n",
              "      <td>0</td>\n",
              "      <td>38.0</td>\n",
              "      <td>1</td>\n",
              "      <td>0</td>\n",
              "      <td>71.2833</td>\n",
              "      <td>0</td>\n",
              "      <td>13</td>\n",
              "    </tr>\n",
              "    <tr>\n",
              "      <th>2</th>\n",
              "      <td>1</td>\n",
              "      <td>3</td>\n",
              "      <td>0</td>\n",
              "      <td>26.0</td>\n",
              "      <td>0</td>\n",
              "      <td>0</td>\n",
              "      <td>7.9250</td>\n",
              "      <td>2</td>\n",
              "      <td>9</td>\n",
              "    </tr>\n",
              "    <tr>\n",
              "      <th>3</th>\n",
              "      <td>1</td>\n",
              "      <td>1</td>\n",
              "      <td>0</td>\n",
              "      <td>35.0</td>\n",
              "      <td>1</td>\n",
              "      <td>0</td>\n",
              "      <td>53.1000</td>\n",
              "      <td>2</td>\n",
              "      <td>13</td>\n",
              "    </tr>\n",
              "    <tr>\n",
              "      <th>4</th>\n",
              "      <td>0</td>\n",
              "      <td>3</td>\n",
              "      <td>1</td>\n",
              "      <td>35.0</td>\n",
              "      <td>0</td>\n",
              "      <td>0</td>\n",
              "      <td>8.0500</td>\n",
              "      <td>2</td>\n",
              "      <td>12</td>\n",
              "    </tr>\n",
              "  </tbody>\n",
              "</table>\n",
              "</div>"
            ],
            "text/plain": [
              "   Survived  Pclass  Sex   Age  SibSp  Parch     Fare  Embarked  New_Name\n",
              "0         0       3    1  22.0      1      0   7.2500         2        12\n",
              "1         1       1    0  38.0      1      0  71.2833         0        13\n",
              "2         1       3    0  26.0      0      0   7.9250         2         9\n",
              "3         1       1    0  35.0      1      0  53.1000         2        13\n",
              "4         0       3    1  35.0      0      0   8.0500         2        12"
            ]
          },
          "metadata": {
            "tags": []
          },
          "execution_count": 66
        }
      ]
    },
    {
      "cell_type": "code",
      "metadata": {
        "colab": {
          "base_uri": "https://localhost:8080/"
        },
        "id": "V7R82OrfKpRQ",
        "outputId": "00cefd19-3be9-4cff-d62f-1ef397bb6ec3"
      },
      "source": [
        "df.shape"
      ],
      "execution_count": 67,
      "outputs": [
        {
          "output_type": "execute_result",
          "data": {
            "text/plain": [
              "(891, 9)"
            ]
          },
          "metadata": {
            "tags": []
          },
          "execution_count": 67
        }
      ]
    },
    {
      "cell_type": "code",
      "metadata": {
        "id": "MUMIz58NLAd1"
      },
      "source": [
        "X = df.iloc[:,1:].values\n",
        "Y = df.iloc[:,0].values"
      ],
      "execution_count": 68,
      "outputs": []
    },
    {
      "cell_type": "code",
      "metadata": {
        "colab": {
          "base_uri": "https://localhost:8080/"
        },
        "id": "9KEJVejnLR4C",
        "outputId": "0ddd06bd-a16a-450f-a036-a6b7c1d30469"
      },
      "source": [
        "X.shape, Y.shape"
      ],
      "execution_count": 69,
      "outputs": [
        {
          "output_type": "execute_result",
          "data": {
            "text/plain": [
              "((891, 8), (891,))"
            ]
          },
          "metadata": {
            "tags": []
          },
          "execution_count": 69
        }
      ]
    },
    {
      "cell_type": "code",
      "metadata": {
        "id": "SyE3OD-cLU-G"
      },
      "source": [
        "from sklearn.model_selection import train_test_split"
      ],
      "execution_count": 70,
      "outputs": []
    },
    {
      "cell_type": "code",
      "metadata": {
        "id": "h9sIts34LbmT"
      },
      "source": [
        "x_train, x_test, y_train, y_test = train_test_split(X, Y,test_size=0.2 )"
      ],
      "execution_count": 71,
      "outputs": []
    },
    {
      "cell_type": "code",
      "metadata": {
        "id": "k25Lwi7vPDZG"
      },
      "source": [
        "from sklearn.preprocessing import StandardScaler\n",
        "sc_x = StandardScaler()\n",
        "x_train = sc_x.fit_transform(x_train)\n",
        "x_test = sc_x.fit_transform(x_test)"
      ],
      "execution_count": 79,
      "outputs": []
    },
    {
      "cell_type": "code",
      "metadata": {
        "colab": {
          "base_uri": "https://localhost:8080/"
        },
        "id": "pQBWNA0RPkUM",
        "outputId": "99359076-a4aa-40b3-9de6-e2c1905e5054"
      },
      "source": [
        "x_train[:5], x_test[:5]"
      ],
      "execution_count": 86,
      "outputs": [
        {
          "output_type": "execute_result",
          "data": {
            "text/plain": [
              "(array([[ 0.80935725,  0.73108328,  0.02116721, -0.46700197, -0.47498621,\n",
              "         -0.48754791, -0.65634947,  0.44697347],\n",
              "        [-0.3886934 , -1.36783323,  0.42480561, -0.46700197, -0.47498621,\n",
              "         -0.21894283,  0.59652136, -1.16032508],\n",
              "        [-0.3886934 , -1.36783323,  0.04407805,  2.31159471, -0.47498621,\n",
              "         -0.21894283,  0.59652136,  0.98273966],\n",
              "        [ 0.80935725,  0.73108328, -0.18435848, -0.46700197, -0.47498621,\n",
              "         -0.48611535,  0.59652136,  0.44697347],\n",
              "        [ 0.80935725, -1.36783323,  0.02116721, -0.46700197, -0.47498621,\n",
              "         -0.48704207, -0.65634947, -1.16032508]]),\n",
              " array([[-1.48971543, -1.3084805 , -1.19694982, -0.50476191,  0.6986454 ,\n",
              "          0.47928947, -2.08744543, -1.32888762],\n",
              "        [-1.48971543, -1.3084805 ,  0.0966269 , -0.50476191, -0.47011653,\n",
              "          0.84124056, -2.08744543, -1.32888762],\n",
              "        [-1.48971543, -1.3084805 , -0.08939609,  0.33965287, -0.47011653,\n",
              "          0.35839139,  0.54391184,  0.84842024],\n",
              "        [ 0.90184566,  0.76424525, -0.08939609, -0.50476191, -0.47011653,\n",
              "         -0.47891389,  0.54391184,  0.30409328],\n",
              "        [ 0.90184566,  0.76424525, -0.08939609, -0.50476191, -0.47011653,\n",
              "         -0.51300894,  0.54391184,  0.30409328]]))"
            ]
          },
          "metadata": {
            "tags": []
          },
          "execution_count": 86
        }
      ]
    },
    {
      "cell_type": "code",
      "metadata": {
        "id": "3QU2YfkvMZrv"
      },
      "source": [
        "from sklearn.ensemble import RandomForestClassifier"
      ],
      "execution_count": 80,
      "outputs": []
    },
    {
      "cell_type": "code",
      "metadata": {
        "id": "jy8_3NBxNBTC"
      },
      "source": [
        "clf = RandomForestClassifier(n_estimators=50, n_jobs=-1, max_depth=3)"
      ],
      "execution_count": 81,
      "outputs": []
    },
    {
      "cell_type": "code",
      "metadata": {
        "colab": {
          "base_uri": "https://localhost:8080/"
        },
        "id": "DFk92_2_NGcE",
        "outputId": "d8bcc39c-79f2-426d-98dd-d6db9b066151"
      },
      "source": [
        "clf.fit(x_train, y_train)"
      ],
      "execution_count": 82,
      "outputs": [
        {
          "output_type": "execute_result",
          "data": {
            "text/plain": [
              "RandomForestClassifier(bootstrap=True, ccp_alpha=0.0, class_weight=None,\n",
              "                       criterion='gini', max_depth=3, max_features='auto',\n",
              "                       max_leaf_nodes=None, max_samples=None,\n",
              "                       min_impurity_decrease=0.0, min_impurity_split=None,\n",
              "                       min_samples_leaf=1, min_samples_split=2,\n",
              "                       min_weight_fraction_leaf=0.0, n_estimators=50, n_jobs=-1,\n",
              "                       oob_score=False, random_state=None, verbose=0,\n",
              "                       warm_start=False)"
            ]
          },
          "metadata": {
            "tags": []
          },
          "execution_count": 82
        }
      ]
    },
    {
      "cell_type": "code",
      "metadata": {
        "id": "h11DbiE1NJ1H"
      },
      "source": [
        "y_pred = clf.predict(x_train)"
      ],
      "execution_count": 83,
      "outputs": []
    },
    {
      "cell_type": "code",
      "metadata": {
        "colab": {
          "base_uri": "https://localhost:8080/"
        },
        "id": "ydUMuUYaNQO3",
        "outputId": "0512c4d1-95c4-4c4e-e3a6-64b0f91c261b"
      },
      "source": [
        "clf.score(x_train, y_train)"
      ],
      "execution_count": 84,
      "outputs": [
        {
          "output_type": "execute_result",
          "data": {
            "text/plain": [
              "0.8286516853932584"
            ]
          },
          "metadata": {
            "tags": []
          },
          "execution_count": 84
        }
      ]
    },
    {
      "cell_type": "code",
      "metadata": {
        "colab": {
          "base_uri": "https://localhost:8080/"
        },
        "id": "XXGbPvzON9NP",
        "outputId": "a582bce7-de14-4a17-c7b4-3a557c574939"
      },
      "source": [
        "clf.score(x_test, y_test)"
      ],
      "execution_count": 85,
      "outputs": [
        {
          "output_type": "execute_result",
          "data": {
            "text/plain": [
              "0.8491620111731844"
            ]
          },
          "metadata": {
            "tags": []
          },
          "execution_count": 85
        }
      ]
    },
    {
      "cell_type": "markdown",
      "metadata": {
        "id": "vs9NLwSePtjm"
      },
      "source": [
        "ANN"
      ]
    },
    {
      "cell_type": "code",
      "metadata": {
        "id": "RwJp6m8aOALn"
      },
      "source": [
        "from keras.models import Sequential\n",
        "from keras.layers import Dense, Dropout"
      ],
      "execution_count": 87,
      "outputs": []
    },
    {
      "cell_type": "code",
      "metadata": {
        "colab": {
          "base_uri": "https://localhost:8080/"
        },
        "id": "8CEjpWIgT9Lx",
        "outputId": "04bc471f-ac95-42c1-b6ce-4032e43f22b1"
      },
      "source": [
        "x_train.shape, y_train.shape"
      ],
      "execution_count": 88,
      "outputs": [
        {
          "output_type": "execute_result",
          "data": {
            "text/plain": [
              "((712, 8), (712,))"
            ]
          },
          "metadata": {
            "tags": []
          },
          "execution_count": 88
        }
      ]
    },
    {
      "cell_type": "code",
      "metadata": {
        "id": "CBT--Kh3UGvF"
      },
      "source": [
        "clf = Sequential()"
      ],
      "execution_count": 89,
      "outputs": []
    },
    {
      "cell_type": "markdown",
      "metadata": {
        "id": "3BLA1rlaUeez"
      },
      "source": [
        "First layer"
      ]
    },
    {
      "cell_type": "code",
      "metadata": {
        "id": "6ErBibO9UbbC"
      },
      "source": [
        "clf.add(Dense(units=32, activation='relu', input_shape=(8,)))"
      ],
      "execution_count": 90,
      "outputs": []
    },
    {
      "cell_type": "markdown",
      "metadata": {
        "id": "n6S1z54TUv48"
      },
      "source": [
        "Hidden layer"
      ]
    },
    {
      "cell_type": "code",
      "metadata": {
        "id": "uEzyaJD8UrO1"
      },
      "source": [
        "clf.add(Dense(units=32, activation='relu'))"
      ],
      "execution_count": 92,
      "outputs": []
    },
    {
      "cell_type": "markdown",
      "metadata": {
        "id": "NgPvds04VBtb"
      },
      "source": [
        "Output layer"
      ]
    },
    {
      "cell_type": "code",
      "metadata": {
        "id": "5afMGKjcU4WE"
      },
      "source": [
        "clf.add(Dense(units=1, activation='sigmoid'))"
      ],
      "execution_count": 93,
      "outputs": []
    },
    {
      "cell_type": "markdown",
      "metadata": {
        "id": "oiCxYjGzVRM5"
      },
      "source": [
        "Compile"
      ]
    },
    {
      "cell_type": "code",
      "metadata": {
        "id": "Ht663HdMVQFr"
      },
      "source": [
        "clf.compile(optimizer='adam', loss='binary_crossentropy', metrics=['accuracy'])"
      ],
      "execution_count": 95,
      "outputs": []
    },
    {
      "cell_type": "code",
      "metadata": {
        "colab": {
          "base_uri": "https://localhost:8080/"
        },
        "id": "g2o-Z8h6Vkk4",
        "outputId": "789498a6-22a6-46d0-8fee-3784f4c85b83"
      },
      "source": [
        "clf.summary()"
      ],
      "execution_count": 96,
      "outputs": [
        {
          "output_type": "stream",
          "text": [
            "Model: \"sequential\"\n",
            "_________________________________________________________________\n",
            "Layer (type)                 Output Shape              Param #   \n",
            "=================================================================\n",
            "dense (Dense)                (None, 32)                288       \n",
            "_________________________________________________________________\n",
            "dense_1 (Dense)              (None, 32)                1056      \n",
            "_________________________________________________________________\n",
            "dense_2 (Dense)              (None, 32)                1056      \n",
            "_________________________________________________________________\n",
            "dense_3 (Dense)              (None, 1)                 33        \n",
            "=================================================================\n",
            "Total params: 2,433\n",
            "Trainable params: 2,433\n",
            "Non-trainable params: 0\n",
            "_________________________________________________________________\n"
          ],
          "name": "stdout"
        }
      ]
    },
    {
      "cell_type": "code",
      "metadata": {
        "colab": {
          "base_uri": "https://localhost:8080/"
        },
        "id": "fbR8_IrgVrMj",
        "outputId": "883128b3-42f4-4bf0-e0f7-4a6f066f6d8a"
      },
      "source": [
        "clf.fit(x_train, y_train, batch_size=32, epochs=100, validation_split=0.2)"
      ],
      "execution_count": 97,
      "outputs": [
        {
          "output_type": "stream",
          "text": [
            "Epoch 1/100\n",
            "18/18 [==============================] - 13s 31ms/step - loss: 0.7002 - accuracy: 0.6219 - val_loss: 0.6479 - val_accuracy: 0.6154\n",
            "Epoch 2/100\n",
            "18/18 [==============================] - 0s 3ms/step - loss: 0.6147 - accuracy: 0.7100 - val_loss: 0.5892 - val_accuracy: 0.7622\n",
            "Epoch 3/100\n",
            "18/18 [==============================] - 0s 4ms/step - loss: 0.5616 - accuracy: 0.7695 - val_loss: 0.5432 - val_accuracy: 0.7972\n",
            "Epoch 4/100\n",
            "18/18 [==============================] - 0s 3ms/step - loss: 0.4867 - accuracy: 0.8338 - val_loss: 0.5160 - val_accuracy: 0.7762\n",
            "Epoch 5/100\n",
            "18/18 [==============================] - 0s 3ms/step - loss: 0.4469 - accuracy: 0.8324 - val_loss: 0.4998 - val_accuracy: 0.7762\n",
            "Epoch 6/100\n",
            "18/18 [==============================] - 0s 4ms/step - loss: 0.4318 - accuracy: 0.8395 - val_loss: 0.4875 - val_accuracy: 0.7622\n",
            "Epoch 7/100\n",
            "18/18 [==============================] - 0s 3ms/step - loss: 0.4224 - accuracy: 0.8217 - val_loss: 0.4895 - val_accuracy: 0.7692\n",
            "Epoch 8/100\n",
            "18/18 [==============================] - 0s 3ms/step - loss: 0.4360 - accuracy: 0.8175 - val_loss: 0.4849 - val_accuracy: 0.7692\n",
            "Epoch 9/100\n",
            "18/18 [==============================] - 0s 3ms/step - loss: 0.4043 - accuracy: 0.8437 - val_loss: 0.4864 - val_accuracy: 0.7762\n",
            "Epoch 10/100\n",
            "18/18 [==============================] - 0s 3ms/step - loss: 0.3966 - accuracy: 0.8340 - val_loss: 0.4917 - val_accuracy: 0.7622\n",
            "Epoch 11/100\n",
            "18/18 [==============================] - 0s 3ms/step - loss: 0.3780 - accuracy: 0.8487 - val_loss: 0.4899 - val_accuracy: 0.7692\n",
            "Epoch 12/100\n",
            "18/18 [==============================] - 0s 4ms/step - loss: 0.4243 - accuracy: 0.8211 - val_loss: 0.4925 - val_accuracy: 0.7692\n",
            "Epoch 13/100\n",
            "18/18 [==============================] - 0s 4ms/step - loss: 0.3400 - accuracy: 0.8618 - val_loss: 0.4942 - val_accuracy: 0.7622\n",
            "Epoch 14/100\n",
            "18/18 [==============================] - 0s 3ms/step - loss: 0.3516 - accuracy: 0.8538 - val_loss: 0.4934 - val_accuracy: 0.7622\n",
            "Epoch 15/100\n",
            "18/18 [==============================] - 0s 3ms/step - loss: 0.3535 - accuracy: 0.8693 - val_loss: 0.4937 - val_accuracy: 0.7692\n",
            "Epoch 16/100\n",
            "18/18 [==============================] - 0s 4ms/step - loss: 0.3659 - accuracy: 0.8409 - val_loss: 0.4948 - val_accuracy: 0.7622\n",
            "Epoch 17/100\n",
            "18/18 [==============================] - 0s 3ms/step - loss: 0.3443 - accuracy: 0.8690 - val_loss: 0.4996 - val_accuracy: 0.7622\n",
            "Epoch 18/100\n",
            "18/18 [==============================] - 0s 4ms/step - loss: 0.3272 - accuracy: 0.8756 - val_loss: 0.5006 - val_accuracy: 0.7692\n",
            "Epoch 19/100\n",
            "18/18 [==============================] - 0s 4ms/step - loss: 0.3642 - accuracy: 0.8489 - val_loss: 0.4974 - val_accuracy: 0.7762\n",
            "Epoch 20/100\n",
            "18/18 [==============================] - 0s 3ms/step - loss: 0.3606 - accuracy: 0.8543 - val_loss: 0.5062 - val_accuracy: 0.7692\n",
            "Epoch 21/100\n",
            "18/18 [==============================] - 0s 3ms/step - loss: 0.3818 - accuracy: 0.8477 - val_loss: 0.5020 - val_accuracy: 0.7762\n",
            "Epoch 22/100\n",
            "18/18 [==============================] - 0s 3ms/step - loss: 0.3271 - accuracy: 0.8801 - val_loss: 0.5128 - val_accuracy: 0.7692\n",
            "Epoch 23/100\n",
            "18/18 [==============================] - 0s 3ms/step - loss: 0.3650 - accuracy: 0.8590 - val_loss: 0.5104 - val_accuracy: 0.7762\n",
            "Epoch 24/100\n",
            "18/18 [==============================] - 0s 3ms/step - loss: 0.3807 - accuracy: 0.8370 - val_loss: 0.5104 - val_accuracy: 0.7692\n",
            "Epoch 25/100\n",
            "18/18 [==============================] - 0s 3ms/step - loss: 0.3771 - accuracy: 0.8454 - val_loss: 0.5193 - val_accuracy: 0.7762\n",
            "Epoch 26/100\n",
            "18/18 [==============================] - 0s 4ms/step - loss: 0.3293 - accuracy: 0.8679 - val_loss: 0.5218 - val_accuracy: 0.7552\n",
            "Epoch 27/100\n",
            "18/18 [==============================] - 0s 3ms/step - loss: 0.3250 - accuracy: 0.8683 - val_loss: 0.5176 - val_accuracy: 0.7762\n",
            "Epoch 28/100\n",
            "18/18 [==============================] - 0s 3ms/step - loss: 0.3625 - accuracy: 0.8484 - val_loss: 0.5207 - val_accuracy: 0.7692\n",
            "Epoch 29/100\n",
            "18/18 [==============================] - 0s 3ms/step - loss: 0.3296 - accuracy: 0.8701 - val_loss: 0.5238 - val_accuracy: 0.7622\n",
            "Epoch 30/100\n",
            "18/18 [==============================] - 0s 4ms/step - loss: 0.3422 - accuracy: 0.8574 - val_loss: 0.5294 - val_accuracy: 0.7622\n",
            "Epoch 31/100\n",
            "18/18 [==============================] - 0s 3ms/step - loss: 0.3418 - accuracy: 0.8597 - val_loss: 0.5255 - val_accuracy: 0.7552\n",
            "Epoch 32/100\n",
            "18/18 [==============================] - 0s 3ms/step - loss: 0.3582 - accuracy: 0.8709 - val_loss: 0.5252 - val_accuracy: 0.7832\n",
            "Epoch 33/100\n",
            "18/18 [==============================] - 0s 4ms/step - loss: 0.3289 - accuracy: 0.8736 - val_loss: 0.5279 - val_accuracy: 0.7552\n",
            "Epoch 34/100\n",
            "18/18 [==============================] - 0s 3ms/step - loss: 0.3657 - accuracy: 0.8538 - val_loss: 0.5327 - val_accuracy: 0.7552\n",
            "Epoch 35/100\n",
            "18/18 [==============================] - 0s 4ms/step - loss: 0.3430 - accuracy: 0.8675 - val_loss: 0.5356 - val_accuracy: 0.7483\n",
            "Epoch 36/100\n",
            "18/18 [==============================] - 0s 3ms/step - loss: 0.3253 - accuracy: 0.8640 - val_loss: 0.5351 - val_accuracy: 0.7622\n",
            "Epoch 37/100\n",
            "18/18 [==============================] - 0s 3ms/step - loss: 0.3184 - accuracy: 0.8804 - val_loss: 0.5393 - val_accuracy: 0.7483\n",
            "Epoch 38/100\n",
            "18/18 [==============================] - 0s 3ms/step - loss: 0.3155 - accuracy: 0.8785 - val_loss: 0.5399 - val_accuracy: 0.7483\n",
            "Epoch 39/100\n",
            "18/18 [==============================] - 0s 3ms/step - loss: 0.3236 - accuracy: 0.8684 - val_loss: 0.5402 - val_accuracy: 0.7622\n",
            "Epoch 40/100\n",
            "18/18 [==============================] - 0s 4ms/step - loss: 0.3255 - accuracy: 0.8657 - val_loss: 0.5480 - val_accuracy: 0.7552\n",
            "Epoch 41/100\n",
            "18/18 [==============================] - 0s 3ms/step - loss: 0.3460 - accuracy: 0.8687 - val_loss: 0.5492 - val_accuracy: 0.7483\n",
            "Epoch 42/100\n",
            "18/18 [==============================] - 0s 3ms/step - loss: 0.3488 - accuracy: 0.8642 - val_loss: 0.5468 - val_accuracy: 0.7483\n",
            "Epoch 43/100\n",
            "18/18 [==============================] - 0s 4ms/step - loss: 0.3323 - accuracy: 0.8742 - val_loss: 0.5516 - val_accuracy: 0.7552\n",
            "Epoch 44/100\n",
            "18/18 [==============================] - 0s 3ms/step - loss: 0.3182 - accuracy: 0.8765 - val_loss: 0.5486 - val_accuracy: 0.7483\n",
            "Epoch 45/100\n",
            "18/18 [==============================] - 0s 4ms/step - loss: 0.3549 - accuracy: 0.8513 - val_loss: 0.5545 - val_accuracy: 0.7483\n",
            "Epoch 46/100\n",
            "18/18 [==============================] - 0s 3ms/step - loss: 0.3379 - accuracy: 0.8710 - val_loss: 0.5533 - val_accuracy: 0.7483\n",
            "Epoch 47/100\n",
            "18/18 [==============================] - 0s 3ms/step - loss: 0.3306 - accuracy: 0.8731 - val_loss: 0.5635 - val_accuracy: 0.7483\n",
            "Epoch 48/100\n",
            "18/18 [==============================] - 0s 3ms/step - loss: 0.3233 - accuracy: 0.8695 - val_loss: 0.5603 - val_accuracy: 0.7483\n",
            "Epoch 49/100\n",
            "18/18 [==============================] - 0s 3ms/step - loss: 0.3011 - accuracy: 0.8909 - val_loss: 0.5609 - val_accuracy: 0.7483\n",
            "Epoch 50/100\n",
            "18/18 [==============================] - 0s 4ms/step - loss: 0.3366 - accuracy: 0.8628 - val_loss: 0.5608 - val_accuracy: 0.7552\n",
            "Epoch 51/100\n",
            "18/18 [==============================] - 0s 2ms/step - loss: 0.3062 - accuracy: 0.8945 - val_loss: 0.5641 - val_accuracy: 0.7483\n",
            "Epoch 52/100\n",
            "18/18 [==============================] - 0s 3ms/step - loss: 0.2991 - accuracy: 0.8862 - val_loss: 0.5694 - val_accuracy: 0.7483\n",
            "Epoch 53/100\n",
            "18/18 [==============================] - 0s 3ms/step - loss: 0.3039 - accuracy: 0.8813 - val_loss: 0.5694 - val_accuracy: 0.7413\n",
            "Epoch 54/100\n",
            "18/18 [==============================] - 0s 4ms/step - loss: 0.3086 - accuracy: 0.8891 - val_loss: 0.5699 - val_accuracy: 0.7413\n",
            "Epoch 55/100\n",
            "18/18 [==============================] - 0s 3ms/step - loss: 0.3015 - accuracy: 0.8925 - val_loss: 0.5689 - val_accuracy: 0.7483\n",
            "Epoch 56/100\n",
            "18/18 [==============================] - 0s 3ms/step - loss: 0.3052 - accuracy: 0.8842 - val_loss: 0.5792 - val_accuracy: 0.7413\n",
            "Epoch 57/100\n",
            "18/18 [==============================] - 0s 3ms/step - loss: 0.3150 - accuracy: 0.8718 - val_loss: 0.5757 - val_accuracy: 0.7483\n",
            "Epoch 58/100\n",
            "18/18 [==============================] - 0s 3ms/step - loss: 0.3016 - accuracy: 0.8803 - val_loss: 0.5784 - val_accuracy: 0.7413\n",
            "Epoch 59/100\n",
            "18/18 [==============================] - 0s 4ms/step - loss: 0.3011 - accuracy: 0.8894 - val_loss: 0.5839 - val_accuracy: 0.7413\n",
            "Epoch 60/100\n",
            "18/18 [==============================] - 0s 3ms/step - loss: 0.3095 - accuracy: 0.8866 - val_loss: 0.5836 - val_accuracy: 0.7552\n",
            "Epoch 61/100\n",
            "18/18 [==============================] - 0s 3ms/step - loss: 0.2708 - accuracy: 0.9010 - val_loss: 0.5881 - val_accuracy: 0.7413\n",
            "Epoch 62/100\n",
            "18/18 [==============================] - 0s 3ms/step - loss: 0.2957 - accuracy: 0.8821 - val_loss: 0.5913 - val_accuracy: 0.7483\n",
            "Epoch 63/100\n",
            "18/18 [==============================] - 0s 3ms/step - loss: 0.3060 - accuracy: 0.8808 - val_loss: 0.5805 - val_accuracy: 0.7483\n",
            "Epoch 64/100\n",
            "18/18 [==============================] - 0s 3ms/step - loss: 0.2856 - accuracy: 0.8937 - val_loss: 0.5907 - val_accuracy: 0.7483\n",
            "Epoch 65/100\n",
            "18/18 [==============================] - 0s 3ms/step - loss: 0.2941 - accuracy: 0.8878 - val_loss: 0.5878 - val_accuracy: 0.7483\n",
            "Epoch 66/100\n",
            "18/18 [==============================] - 0s 4ms/step - loss: 0.3159 - accuracy: 0.8764 - val_loss: 0.5959 - val_accuracy: 0.7483\n",
            "Epoch 67/100\n",
            "18/18 [==============================] - 0s 3ms/step - loss: 0.3022 - accuracy: 0.8734 - val_loss: 0.5967 - val_accuracy: 0.7483\n",
            "Epoch 68/100\n",
            "18/18 [==============================] - 0s 4ms/step - loss: 0.3097 - accuracy: 0.8680 - val_loss: 0.5966 - val_accuracy: 0.7483\n",
            "Epoch 69/100\n",
            "18/18 [==============================] - 0s 3ms/step - loss: 0.2910 - accuracy: 0.8788 - val_loss: 0.5956 - val_accuracy: 0.7483\n",
            "Epoch 70/100\n",
            "18/18 [==============================] - 0s 4ms/step - loss: 0.2920 - accuracy: 0.8802 - val_loss: 0.6013 - val_accuracy: 0.7552\n",
            "Epoch 71/100\n",
            "18/18 [==============================] - 0s 3ms/step - loss: 0.2965 - accuracy: 0.8745 - val_loss: 0.5989 - val_accuracy: 0.7483\n",
            "Epoch 72/100\n",
            "18/18 [==============================] - 0s 3ms/step - loss: 0.3020 - accuracy: 0.8660 - val_loss: 0.6027 - val_accuracy: 0.7483\n",
            "Epoch 73/100\n",
            "18/18 [==============================] - 0s 3ms/step - loss: 0.2741 - accuracy: 0.8944 - val_loss: 0.6070 - val_accuracy: 0.7483\n",
            "Epoch 74/100\n",
            "18/18 [==============================] - 0s 3ms/step - loss: 0.2839 - accuracy: 0.8893 - val_loss: 0.6028 - val_accuracy: 0.7483\n",
            "Epoch 75/100\n",
            "18/18 [==============================] - 0s 3ms/step - loss: 0.2782 - accuracy: 0.8817 - val_loss: 0.5992 - val_accuracy: 0.7622\n",
            "Epoch 76/100\n",
            "18/18 [==============================] - 0s 4ms/step - loss: 0.2662 - accuracy: 0.8846 - val_loss: 0.6176 - val_accuracy: 0.7552\n",
            "Epoch 77/100\n",
            "18/18 [==============================] - 0s 4ms/step - loss: 0.3106 - accuracy: 0.8574 - val_loss: 0.6101 - val_accuracy: 0.7552\n",
            "Epoch 78/100\n",
            "18/18 [==============================] - 0s 3ms/step - loss: 0.2819 - accuracy: 0.8886 - val_loss: 0.6159 - val_accuracy: 0.7483\n",
            "Epoch 79/100\n",
            "18/18 [==============================] - 0s 4ms/step - loss: 0.2907 - accuracy: 0.8794 - val_loss: 0.5990 - val_accuracy: 0.7483\n",
            "Epoch 80/100\n",
            "18/18 [==============================] - 0s 3ms/step - loss: 0.2749 - accuracy: 0.8873 - val_loss: 0.6249 - val_accuracy: 0.7483\n",
            "Epoch 81/100\n",
            "18/18 [==============================] - 0s 3ms/step - loss: 0.3007 - accuracy: 0.8677 - val_loss: 0.6171 - val_accuracy: 0.7552\n",
            "Epoch 82/100\n",
            "18/18 [==============================] - 0s 3ms/step - loss: 0.2883 - accuracy: 0.8799 - val_loss: 0.6321 - val_accuracy: 0.7552\n",
            "Epoch 83/100\n",
            "18/18 [==============================] - 0s 3ms/step - loss: 0.2635 - accuracy: 0.8971 - val_loss: 0.6208 - val_accuracy: 0.7622\n",
            "Epoch 84/100\n",
            "18/18 [==============================] - 0s 3ms/step - loss: 0.2839 - accuracy: 0.8867 - val_loss: 0.6224 - val_accuracy: 0.7552\n",
            "Epoch 85/100\n",
            "18/18 [==============================] - 0s 4ms/step - loss: 0.2870 - accuracy: 0.8853 - val_loss: 0.6169 - val_accuracy: 0.7552\n",
            "Epoch 86/100\n",
            "18/18 [==============================] - 0s 3ms/step - loss: 0.3180 - accuracy: 0.8627 - val_loss: 0.6166 - val_accuracy: 0.7552\n",
            "Epoch 87/100\n",
            "18/18 [==============================] - 0s 3ms/step - loss: 0.2806 - accuracy: 0.8823 - val_loss: 0.6209 - val_accuracy: 0.7552\n",
            "Epoch 88/100\n",
            "18/18 [==============================] - 0s 3ms/step - loss: 0.3102 - accuracy: 0.8753 - val_loss: 0.6288 - val_accuracy: 0.7483\n",
            "Epoch 89/100\n",
            "18/18 [==============================] - 0s 3ms/step - loss: 0.2789 - accuracy: 0.8871 - val_loss: 0.6359 - val_accuracy: 0.7483\n",
            "Epoch 90/100\n",
            "18/18 [==============================] - 0s 3ms/step - loss: 0.3052 - accuracy: 0.8680 - val_loss: 0.6289 - val_accuracy: 0.7552\n",
            "Epoch 91/100\n",
            "18/18 [==============================] - 0s 3ms/step - loss: 0.2807 - accuracy: 0.8918 - val_loss: 0.6366 - val_accuracy: 0.7552\n",
            "Epoch 92/100\n",
            "18/18 [==============================] - 0s 4ms/step - loss: 0.3339 - accuracy: 0.8571 - val_loss: 0.6244 - val_accuracy: 0.7552\n",
            "Epoch 93/100\n",
            "18/18 [==============================] - 0s 3ms/step - loss: 0.2941 - accuracy: 0.8873 - val_loss: 0.6381 - val_accuracy: 0.7483\n",
            "Epoch 94/100\n",
            "18/18 [==============================] - 0s 4ms/step - loss: 0.2971 - accuracy: 0.8769 - val_loss: 0.6352 - val_accuracy: 0.7483\n",
            "Epoch 95/100\n",
            "18/18 [==============================] - 0s 4ms/step - loss: 0.2570 - accuracy: 0.8992 - val_loss: 0.6357 - val_accuracy: 0.7552\n",
            "Epoch 96/100\n",
            "18/18 [==============================] - 0s 4ms/step - loss: 0.2939 - accuracy: 0.8837 - val_loss: 0.6421 - val_accuracy: 0.7552\n",
            "Epoch 97/100\n",
            "18/18 [==============================] - 0s 4ms/step - loss: 0.3142 - accuracy: 0.8627 - val_loss: 0.6390 - val_accuracy: 0.7483\n",
            "Epoch 98/100\n",
            "18/18 [==============================] - 0s 3ms/step - loss: 0.2808 - accuracy: 0.8825 - val_loss: 0.6385 - val_accuracy: 0.7622\n",
            "Epoch 99/100\n",
            "18/18 [==============================] - 0s 3ms/step - loss: 0.3069 - accuracy: 0.8607 - val_loss: 0.6440 - val_accuracy: 0.7552\n",
            "Epoch 100/100\n",
            "18/18 [==============================] - 0s 4ms/step - loss: 0.2815 - accuracy: 0.8837 - val_loss: 0.6410 - val_accuracy: 0.7483\n"
          ],
          "name": "stdout"
        },
        {
          "output_type": "execute_result",
          "data": {
            "text/plain": [
              "<keras.callbacks.History at 0x7fbe8117f5d0>"
            ]
          },
          "metadata": {
            "tags": []
          },
          "execution_count": 97
        }
      ]
    },
    {
      "cell_type": "code",
      "metadata": {
        "colab": {
          "base_uri": "https://localhost:8080/",
          "height": 282
        },
        "id": "7Hu_7B3JWIr2",
        "outputId": "76e6f2bb-f0cd-4657-e85b-427cc71f697f"
      },
      "source": [
        "pd.DataFrame(clf.history.history).plot()"
      ],
      "execution_count": 98,
      "outputs": [
        {
          "output_type": "execute_result",
          "data": {
            "text/plain": [
              "<matplotlib.axes._subplots.AxesSubplot at 0x7fbe800443d0>"
            ]
          },
          "metadata": {
            "tags": []
          },
          "execution_count": 98
        },
        {
          "output_type": "display_data",
          "data": {
            "image/png": "[encoded data removed]",
            "text/plain": [
              "<Figure size 432x288 with 1 Axes>"
            ]
          },
          "metadata": {
            "tags": [],
            "needs_background": "light"
          }
        }
      ]
    },
    {
      "cell_type": "code",
      "metadata": {
        "colab": {
          "base_uri": "https://localhost:8080/"
        },
        "id": "8h9XSj5BWb2t",
        "outputId": "8e164d91-86d5-4f7c-fa73-ecedbe331daa"
      },
      "source": [
        "clf.evaluate(x_test, y_test)"
      ],
      "execution_count": 99,
      "outputs": [
        {
          "output_type": "stream",
          "text": [
            "6/6 [==============================] - 0s 3ms/step - loss: 0.5439 - accuracy: 0.8212\n"
          ],
          "name": "stdout"
        },
        {
          "output_type": "execute_result",
          "data": {
            "text/plain": [
              "[0.5438936948776245, 0.8212290406227112]"
            ]
          },
          "metadata": {
            "tags": []
          },
          "execution_count": 99
        }
      ]
    },
    {
      "cell_type": "code",
      "metadata": {
        "id": "TGqCaMcsWyo8"
      },
      "source": [
        ""
      ],
      "execution_count": null,
      "outputs": []
    }
  ]
}